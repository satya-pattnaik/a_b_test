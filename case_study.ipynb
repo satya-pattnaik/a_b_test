{
 "cells": [
  {
   "cell_type": "code",
   "execution_count": 38,
   "id": "87b3fd06",
   "metadata": {},
   "outputs": [],
   "source": [
    "import pandas as pd\n",
    "import numpy as np"
   ]
  },
  {
   "cell_type": "code",
   "execution_count": 89,
   "id": "5e4fff9a",
   "metadata": {},
   "outputs": [
    {
     "data": {
      "text/html": [
       "<div>\n",
       "<style scoped>\n",
       "    .dataframe tbody tr th:only-of-type {\n",
       "        vertical-align: middle;\n",
       "    }\n",
       "\n",
       "    .dataframe tbody tr th {\n",
       "        vertical-align: top;\n",
       "    }\n",
       "\n",
       "    .dataframe thead th {\n",
       "        text-align: right;\n",
       "    }\n",
       "</style>\n",
       "<table border=\"1\" class=\"dataframe\">\n",
       "  <thead>\n",
       "    <tr style=\"text-align: right;\">\n",
       "      <th></th>\n",
       "      <th>Day</th>\n",
       "      <th>Control Cookies</th>\n",
       "      <th>Control Downloads</th>\n",
       "      <th>Control Licenses</th>\n",
       "      <th>Experiment Cookies</th>\n",
       "      <th>Experiment Downloads</th>\n",
       "      <th>Experiment Licenses</th>\n",
       "    </tr>\n",
       "  </thead>\n",
       "  <tbody>\n",
       "    <tr>\n",
       "      <th>0</th>\n",
       "      <td>1</td>\n",
       "      <td>1764</td>\n",
       "      <td>246</td>\n",
       "      <td>1</td>\n",
       "      <td>1850</td>\n",
       "      <td>339</td>\n",
       "      <td>3</td>\n",
       "    </tr>\n",
       "    <tr>\n",
       "      <th>1</th>\n",
       "      <td>2</td>\n",
       "      <td>1541</td>\n",
       "      <td>234</td>\n",
       "      <td>2</td>\n",
       "      <td>1590</td>\n",
       "      <td>281</td>\n",
       "      <td>2</td>\n",
       "    </tr>\n",
       "    <tr>\n",
       "      <th>2</th>\n",
       "      <td>3</td>\n",
       "      <td>1457</td>\n",
       "      <td>240</td>\n",
       "      <td>1</td>\n",
       "      <td>1515</td>\n",
       "      <td>274</td>\n",
       "      <td>1</td>\n",
       "    </tr>\n",
       "    <tr>\n",
       "      <th>3</th>\n",
       "      <td>4</td>\n",
       "      <td>1587</td>\n",
       "      <td>224</td>\n",
       "      <td>1</td>\n",
       "      <td>1541</td>\n",
       "      <td>284</td>\n",
       "      <td>2</td>\n",
       "    </tr>\n",
       "    <tr>\n",
       "      <th>4</th>\n",
       "      <td>5</td>\n",
       "      <td>1606</td>\n",
       "      <td>253</td>\n",
       "      <td>2</td>\n",
       "      <td>1643</td>\n",
       "      <td>292</td>\n",
       "      <td>3</td>\n",
       "    </tr>\n",
       "  </tbody>\n",
       "</table>\n",
       "</div>"
      ],
      "text/plain": [
       "   Day  Control Cookies  Control Downloads  Control Licenses  \\\n",
       "0    1             1764                246                 1   \n",
       "1    2             1541                234                 2   \n",
       "2    3             1457                240                 1   \n",
       "3    4             1587                224                 1   \n",
       "4    5             1606                253                 2   \n",
       "\n",
       "   Experiment Cookies  Experiment Downloads  Experiment Licenses  \n",
       "0                1850                   339                    3  \n",
       "1                1590                   281                    2  \n",
       "2                1515                   274                    1  \n",
       "3                1541                   284                    2  \n",
       "4                1643                   292                    3  "
      ]
     },
     "execution_count": 89,
     "metadata": {},
     "output_type": "execute_result"
    }
   ],
   "source": [
    "df = pd.read_csv(\"homepage-experiment-data.csv\")\n",
    "df.head()"
   ]
  },
  {
   "cell_type": "code",
   "execution_count": 40,
   "id": "4e99ba6a",
   "metadata": {},
   "outputs": [
    {
     "data": {
      "text/plain": [
       "<AxesSubplot:ylabel='Frequency'>"
      ]
     },
     "execution_count": 40,
     "metadata": {},
     "output_type": "execute_result"
    },
    {
     "data": {
      "image/png": "[encoded data removed]",
      "text/plain": [
       "<Figure size 432x288 with 1 Axes>"
      ]
     },
     "metadata": {
      "needs_background": "light"
     },
     "output_type": "display_data"
    }
   ],
   "source": [
    "df[\"Control Cookies\"].plot(kind=\"hist\")"
   ]
  },
  {
   "cell_type": "code",
   "execution_count": 41,
   "id": "8f15724c",
   "metadata": {},
   "outputs": [
    {
     "data": {
      "text/plain": [
       "<AxesSubplot:ylabel='Frequency'>"
      ]
     },
     "execution_count": 41,
     "metadata": {},
     "output_type": "execute_result"
    },
    {
     "data": {
      "image/png": "[encoded data removed]",
      "text/plain": [
       "<Figure size 432x288 with 1 Axes>"
      ]
     },
     "metadata": {
      "needs_background": "light"
     },
     "output_type": "display_data"
    }
   ],
   "source": [
    "df[\"Experiment Cookies\"].plot(kind=\"hist\")"
   ]
  },
  {
   "cell_type": "markdown",
   "id": "62a84f66",
   "metadata": {},
   "source": [
    "## Invariant Metric Calculation"
   ]
  },
  {
   "cell_type": "code",
   "execution_count": 42,
   "id": "6ad8ae71",
   "metadata": {},
   "outputs": [
    {
     "data": {
      "text/plain": [
       "94197"
      ]
     },
     "execution_count": 42,
     "metadata": {},
     "output_type": "execute_result"
    }
   ],
   "source": [
    "total_cookies = df[\"Experiment Cookies\"].sum()+df[\"Control Cookies\"].sum()\n",
    "total_cookies"
   ]
  },
  {
   "cell_type": "code",
   "execution_count": 44,
   "id": "dfe4791b",
   "metadata": {},
   "outputs": [
    {
     "data": {
      "text/plain": [
       "(47098.5, 153.4576488807254)"
      ]
     },
     "execution_count": 44,
     "metadata": {},
     "output_type": "execute_result"
    }
   ],
   "source": [
    "p = 0.5\n",
    "mean = total_cookies * p \n",
    "\n",
    "sd = np.sqrt(p * (1-p) * total_cookies)\n",
    "mean,sd"
   ]
  },
  {
   "cell_type": "code",
   "execution_count": 45,
   "id": "86ca7e2e",
   "metadata": {},
   "outputs": [
    {
     "data": {
      "text/plain": [
       "-1.6095646049678511"
      ]
     },
     "execution_count": 45,
     "metadata": {},
     "output_type": "execute_result"
    }
   ],
   "source": [
    "z = (df[\"Control Cookies\"].sum()+0.5 - mean)/sd\n",
    "z"
   ]
  },
  {
   "cell_type": "code",
   "execution_count": 47,
   "id": "9bf6a15a",
   "metadata": {},
   "outputs": [
    {
     "data": {
      "text/plain": [
       "0.10749294050130412"
      ]
     },
     "execution_count": 47,
     "metadata": {},
     "output_type": "execute_result"
    }
   ],
   "source": [
    "#P(z_score < sample_mean) + P(z_score > sample_mean)\n",
    "stats.norm.cdf(z) + stats.norm.sf(-z)"
   ]
  },
  {
   "cell_type": "code",
   "execution_count": 5,
   "id": "a144ab23",
   "metadata": {},
   "outputs": [
    {
     "data": {
      "text/plain": [
       "(-0.5667703149522241, 0.573135021792267, 56.0)"
      ]
     },
     "execution_count": 5,
     "metadata": {},
     "output_type": "execute_result"
    }
   ],
   "source": [
    "from statsmodels.stats.weightstats import ttest_ind\n",
    "\n",
    "ttest_ind(df[\"Control Cookies\"],df[\"Experiment Cookies\"])"
   ]
  },
  {
   "cell_type": "code",
   "execution_count": 8,
   "id": "79396b73",
   "metadata": {},
   "outputs": [
    {
     "data": {
      "text/plain": [
       "495"
      ]
     },
     "execution_count": 8,
     "metadata": {},
     "output_type": "execute_result"
    }
   ],
   "source": [
    "df[\"Experiment Cookies\"].sum() -  df[\"Control Cookies\"].sum()"
   ]
  },
  {
   "cell_type": "code",
   "execution_count": 9,
   "id": "58837925",
   "metadata": {},
   "outputs": [],
   "source": [
    "sd = df[\"Control Cookies\"].std()"
   ]
  },
  {
   "cell_type": "code",
   "execution_count": 15,
   "id": "e6fc1272",
   "metadata": {},
   "outputs": [
    {
     "data": {
      "text/plain": [
       "0.14675625173179058"
      ]
     },
     "execution_count": 15,
     "metadata": {},
     "output_type": "execute_result"
    }
   ],
   "source": [
    "z = (df[\"Experiment Cookies\"].mean() -  df[\"Control Cookies\"].mean())/sd\n",
    "z"
   ]
  },
  {
   "cell_type": "code",
   "execution_count": 19,
   "id": "17a4ffcd",
   "metadata": {},
   "outputs": [
    {
     "data": {
      "text/plain": [
       "0.8833244167648931"
      ]
     },
     "execution_count": 19,
     "metadata": {},
     "output_type": "execute_result"
    }
   ],
   "source": [
    "import scipy.stats as stats\n",
    "stats.norm.cdf(-z) + stats.norm.sf(z)"
   ]
  },
  {
   "cell_type": "markdown",
   "id": "5016a908",
   "metadata": {},
   "source": [
    "## Evaluation Metric"
   ]
  },
  {
   "cell_type": "markdown",
   "id": "7582d8e9",
   "metadata": {},
   "source": [
    "### Download Rate"
   ]
  },
  {
   "cell_type": "code",
   "execution_count": 50,
   "id": "e72cdd32",
   "metadata": {},
   "outputs": [
    {
     "data": {
      "text/plain": [
       "0.16123455209067042"
      ]
     },
     "execution_count": 50,
     "metadata": {},
     "output_type": "execute_result"
    }
   ],
   "source": [
    "p_control = df[\"Control Downloads\"].sum()/df[\"Control Cookies\"].sum()\n",
    "p_control"
   ]
  },
  {
   "cell_type": "code",
   "execution_count": 51,
   "id": "4a9c24ef",
   "metadata": {},
   "outputs": [
    {
     "data": {
      "text/plain": [
       "0.180543234908968"
      ]
     },
     "execution_count": 51,
     "metadata": {},
     "output_type": "execute_result"
    }
   ],
   "source": [
    "p_experiment = df[\"Experiment Downloads\"].sum()/df[\"Experiment Cookies\"].sum()\n",
    "p_experiment"
   ]
  },
  {
   "cell_type": "code",
   "execution_count": 52,
   "id": "ebda6510",
   "metadata": {},
   "outputs": [
    {
     "data": {
      "text/plain": [
       "-0.01930868281829759"
      ]
     },
     "execution_count": 52,
     "metadata": {},
     "output_type": "execute_result"
    }
   ],
   "source": [
    "p_control - p_experiment"
   ]
  },
  {
   "cell_type": "code",
   "execution_count": 53,
   "id": "e38e960e",
   "metadata": {},
   "outputs": [
    {
     "data": {
      "text/plain": [
       "0.1709396265273841"
      ]
     },
     "execution_count": 53,
     "metadata": {},
     "output_type": "execute_result"
    }
   ],
   "source": [
    "p_null = (df[\"Control Downloads\"].sum() + \\\n",
    "          df[\"Experiment Downloads\"].sum())/(df[\"Control Cookies\"].sum()+\\\n",
    "                                             df[\"Experiment Cookies\"].sum())\n",
    "p_null"
   ]
  },
  {
   "cell_type": "code",
   "execution_count": 56,
   "id": "b7907f3b",
   "metadata": {},
   "outputs": [
    {
     "data": {
      "text/plain": [
       "7.870833726066236"
      ]
     },
     "execution_count": 56,
     "metadata": {},
     "output_type": "execute_result"
    }
   ],
   "source": [
    "n_c,n_e = df[\"Control Cookies\"].sum(), df[\"Experiment Cookies\"].sum()\n",
    "z_score = (p_experiment - p_control)/np.sqrt(p_null*(1-p_null)*(1/n_c + 1/n_e))\n",
    "z_score"
   ]
  },
  {
   "cell_type": "code",
   "execution_count": 57,
   "id": "3ba3f308",
   "metadata": {},
   "outputs": [
    {
     "data": {
      "text/plain": [
       "1.7614279636728079e-15"
      ]
     },
     "execution_count": 57,
     "metadata": {},
     "output_type": "execute_result"
    }
   ],
   "source": [
    "stats.norm.sf(z_score)"
   ]
  },
  {
   "cell_type": "markdown",
   "id": "f6969387",
   "metadata": {},
   "source": [
    "### Licence Rate"
   ]
  },
  {
   "cell_type": "code",
   "execution_count": 82,
   "id": "2f31245a",
   "metadata": {},
   "outputs": [],
   "source": [
    "df = df.loc[df[\"Day\"]<21]"
   ]
  },
  {
   "cell_type": "code",
   "execution_count": 97,
   "id": "4577e2dc",
   "metadata": {},
   "outputs": [
    {
     "data": {
      "text/plain": [
       "0.021032051661828307"
      ]
     },
     "execution_count": 97,
     "metadata": {},
     "output_type": "execute_result"
    }
   ],
   "source": [
    "p_control = df[\"Control Licenses\"].sum()/df.loc[df[\"Day\"]<=21][\"Control Cookies\"].sum()\n",
    "p_control"
   ]
  },
  {
   "cell_type": "code",
   "execution_count": 98,
   "id": "4be4c714",
   "metadata": {},
   "outputs": [
    {
     "data": {
      "text/plain": [
       "0.021317490826489604"
      ]
     },
     "execution_count": 98,
     "metadata": {},
     "output_type": "execute_result"
    }
   ],
   "source": [
    "p_experiment = df[\"Experiment Licenses\"].sum()/df.loc[df[\"Day\"]<=21][\"Experiment Cookies\"].sum()\n",
    "p_experiment"
   ]
  },
  {
   "cell_type": "code",
   "execution_count": 99,
   "id": "9a63ceeb",
   "metadata": {},
   "outputs": [
    {
     "data": {
      "text/plain": [
       "0.00028543916466129693"
      ]
     },
     "execution_count": 99,
     "metadata": {},
     "output_type": "execute_result"
    }
   ],
   "source": [
    "p_experiment - p_control "
   ]
  },
  {
   "cell_type": "code",
   "execution_count": 100,
   "id": "4ea049c7",
   "metadata": {},
   "outputs": [
    {
     "data": {
      "text/plain": [
       "0.021175986842105265"
      ]
     },
     "execution_count": 100,
     "metadata": {},
     "output_type": "execute_result"
    }
   ],
   "source": [
    "p_null = (df[\"Control Licenses\"].sum() + \\\n",
    "          df[\"Experiment Licenses\"].sum())/(df.loc[df[\"Day\"]<=21][\"Control Cookies\"].sum()+\\\n",
    "                                             df.loc[df[\"Day\"]<=21][\"Experiment Cookies\"].sum())\n",
    "p_null"
   ]
  },
  {
   "cell_type": "code",
   "execution_count": 101,
   "id": "d68a6a96",
   "metadata": {},
   "outputs": [
    {
     "data": {
      "text/plain": [
       "0.2586750111658684"
      ]
     },
     "execution_count": 101,
     "metadata": {},
     "output_type": "execute_result"
    }
   ],
   "source": [
    "n_c,n_e = df.loc[df[\"Day\"]<=21][\"Control Cookies\"].sum(), df.loc[df[\"Day\"]<=21][\"Experiment Cookies\"].sum()\n",
    "z_score = (p_experiment - p_control)/np.sqrt(p_null*(1-p_null)*(1/n_c + 1/n_e))\n",
    "z_score"
   ]
  },
  {
   "cell_type": "code",
   "execution_count": 102,
   "id": "0d18acc6",
   "metadata": {},
   "outputs": [
    {
     "data": {
      "text/plain": [
       "0.3979430008399871"
      ]
     },
     "execution_count": 102,
     "metadata": {},
     "output_type": "execute_result"
    }
   ],
   "source": [
    "stats.norm.sf(z_score)"
   ]
  },
  {
   "cell_type": "code",
   "execution_count": null,
   "id": "392934c9",
   "metadata": {},
   "outputs": [],
   "source": []
  }
 ],
 "metadata": {
  "kernelspec": {
   "display_name": "Python 3",
   "language": "python",
   "name": "python3"
  },
  "language_info": {
   "codemirror_mode": {
    "name": "ipython",
    "version": 3
   },
   "file_extension": ".py",
   "mimetype": "text/x-python",
   "name": "python",
   "nbconvert_exporter": "python",
   "pygments_lexer": "ipython3",
   "version": "3.9.5"
  }
 },
 "nbformat": 4,
 "nbformat_minor": 5
}
